{
 "cells": [
  {
   "cell_type": "code",
   "execution_count": 1,
   "id": "8e95f6d0",
   "metadata": {},
   "outputs": [],
   "source": [
    "import pandas as pd"
   ]
  },
  {
   "cell_type": "code",
   "execution_count": null,
   "id": "be4d2706",
   "metadata": {},
   "outputs": [],
   "source": [
    "df = pd.read_csv('/data/app-table-encoded-policies_with_ids.csv', index_col='app_table_id')\n",
    "df = df[df['policy_id'].notna()]\n",
    "df['policy_id'] = df['policy_id'].astype(int)\n",
    "df.head(5)"
   ]
  },
  {
   "cell_type": "code",
   "execution_count": 4,
   "id": "d61be5d6",
   "metadata": {},
   "outputs": [
    {
     "data": {
      "text/html": [
       "<div>\n",
       "<style scoped>\n",
       "    .dataframe tbody tr th:only-of-type {\n",
       "        vertical-align: middle;\n",
       "    }\n",
       "\n",
       "    .dataframe tbody tr th {\n",
       "        vertical-align: top;\n",
       "    }\n",
       "\n",
       "    .dataframe thead th {\n",
       "        text-align: right;\n",
       "    }\n",
       "</style>\n",
       "<table border=\"1\" class=\"dataframe\">\n",
       "  <thead>\n",
       "    <tr style=\"text-align: right;\">\n",
       "      <th></th>\n",
       "      <th>Unnamed: 0</th>\n",
       "      <th>app_store_id</th>\n",
       "      <th>policy_url</th>\n",
       "      <th>encoded_policy_url</th>\n",
       "      <th>policy_id</th>\n",
       "    </tr>\n",
       "    <tr>\n",
       "      <th>app_table_id</th>\n",
       "      <th></th>\n",
       "      <th></th>\n",
       "      <th></th>\n",
       "      <th></th>\n",
       "      <th></th>\n",
       "    </tr>\n",
       "  </thead>\n",
       "  <tbody>\n",
       "    <tr>\n",
       "      <th>68818760</th>\n",
       "      <td>0</td>\n",
       "      <td>1458338229</td>\n",
       "      <td>http://qconz.co.nz/QCONZ-app-use-privacy-policy</td>\n",
       "      <td>http://qconz.co.nz/QCONZ-app-use-privacy-policy</td>\n",
       "      <td>11.0</td>\n",
       "    </tr>\n",
       "    <tr>\n",
       "      <th>68818761</th>\n",
       "      <td>1</td>\n",
       "      <td>1052185229</td>\n",
       "      <td>http://www.eventpedia.com/privacy</td>\n",
       "      <td>http://www.eventpedia.com/privacy</td>\n",
       "      <td>225224.0</td>\n",
       "    </tr>\n",
       "    <tr>\n",
       "      <th>68818762</th>\n",
       "      <td>2</td>\n",
       "      <td>1301915229</td>\n",
       "      <td>http://coroha.jp/kaeru-everyday/frog_privacypo...</td>\n",
       "      <td>http://coroha.jp/kaeru-everyday/frog_privacypo...</td>\n",
       "      <td>100.0</td>\n",
       "    </tr>\n",
       "    <tr>\n",
       "      <th>68818763</th>\n",
       "      <td>3</td>\n",
       "      <td>791944229</td>\n",
       "      <td>http://gbhealthwatch.com/Privacy_Policy.php</td>\n",
       "      <td>http://gbhealthwatch.com/Privacy_Policy.php</td>\n",
       "      <td>105.0</td>\n",
       "    </tr>\n",
       "    <tr>\n",
       "      <th>68818764</th>\n",
       "      <td>4</td>\n",
       "      <td>1617595229</td>\n",
       "      <td>https://nope0124.github.io/skatepuzzle/privacy...</td>\n",
       "      <td>https://nope0124.github.io/skatepuzzle/privacy...</td>\n",
       "      <td>109.0</td>\n",
       "    </tr>\n",
       "  </tbody>\n",
       "</table>\n",
       "</div>"
      ],
      "text/plain": [
       "              Unnamed: 0  app_store_id  \\\n",
       "app_table_id                             \n",
       "68818760               0    1458338229   \n",
       "68818761               1    1052185229   \n",
       "68818762               2    1301915229   \n",
       "68818763               3     791944229   \n",
       "68818764               4    1617595229   \n",
       "\n",
       "                                                     policy_url  \\\n",
       "app_table_id                                                      \n",
       "68818760        http://qconz.co.nz/QCONZ-app-use-privacy-policy   \n",
       "68818761                      http://www.eventpedia.com/privacy   \n",
       "68818762      http://coroha.jp/kaeru-everyday/frog_privacypo...   \n",
       "68818763            http://gbhealthwatch.com/Privacy_Policy.php   \n",
       "68818764      https://nope0124.github.io/skatepuzzle/privacy...   \n",
       "\n",
       "                                             encoded_policy_url  policy_id  \n",
       "app_table_id                                                                \n",
       "68818760        http://qconz.co.nz/QCONZ-app-use-privacy-policy       11.0  \n",
       "68818761                      http://www.eventpedia.com/privacy   225224.0  \n",
       "68818762      http://coroha.jp/kaeru-everyday/frog_privacypo...      100.0  \n",
       "68818763            http://gbhealthwatch.com/Privacy_Policy.php      105.0  \n",
       "68818764      https://nope0124.github.io/skatepuzzle/privacy...      109.0  "
      ]
     },
     "execution_count": 4,
     "metadata": {},
     "output_type": "execute_result"
    }
   ],
   "source": []
  },
  {
   "cell_type": "code",
   "execution_count": null,
   "id": "5b068efd",
   "metadata": {},
   "outputs": [],
   "source": [
    "policy_ids = set(df['policy_id'].to_list())"
   ]
  },
  {
   "cell_type": "code",
   "execution_count": null,
   "id": "ccd8b115",
   "metadata": {},
   "outputs": [],
   "source": [
    "# open file in write mode\n",
    "with open('policy_ids.txt', 'w') as fp:\n",
    "    for policy in policy_ids:\n",
    "        # write each item on a new line\n",
    "        fp.write(\"%s\\n\" % policy)"
   ]
  },
  {
   "cell_type": "code",
   "execution_count": 6,
   "id": "7a47f58e",
   "metadata": {},
   "outputs": [
    {
     "name": "stdout",
     "output_type": "stream",
     "text": [
      "[1, 2, 3, 4, 5]\n"
     ]
    }
   ],
   "source": [
    "txt_file = open('/data/policy_ids.txt', 'r')\n",
    "\n",
    "policy_list = txt_file.readlines()\n",
    "policy_list = [int(x.strip()) for x in policy_list]\n",
    "print(policy_list[0:5])"
   ]
  }
 ],
 "metadata": {
  "kernelspec": {
   "display_name": "Python 3 (ipykernel)",
   "language": "python",
   "name": "python3"
  },
  "language_info": {
   "codemirror_mode": {
    "name": "ipython",
    "version": 3
   },
   "file_extension": ".py",
   "mimetype": "text/x-python",
   "name": "python",
   "nbconvert_exporter": "python",
   "pygments_lexer": "ipython3",
   "version": "3.8.10"
  }
 },
 "nbformat": 4,
 "nbformat_minor": 5
}
