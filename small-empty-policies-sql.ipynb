{
 "cells": [
  {
   "cell_type": "code",
   "execution_count": 16,
   "id": "101b91d6",
   "metadata": {},
   "outputs": [
    {
     "name": "stderr",
     "output_type": "stream",
     "text": [
      "[nltk_data] Downloading package punkt to /root/nltk_data...\n",
      "[nltk_data]   Package punkt is already up-to-date!\n"
     ]
    },
    {
     "data": {
      "text/plain": [
       "True"
      ]
     },
     "execution_count": 16,
     "metadata": {},
     "output_type": "execute_result"
    }
   ],
   "source": [
    "#Imports needed from pytorch\n",
    "import torch\n",
    "from torch.utils.data import Dataset\n",
    "from collections import OrderedDict\n",
    "from torch import nn\n",
    "import torch.nn.functional as F\n",
    "from torch.utils.data import DataLoader\n",
    "from torch.optim import SGD,Adam\n",
    "\n",
    "#Some built-in imports\n",
    "import matplotlib.pyplot as plt\n",
    "import pandas as pd\n",
    "import numpy as np\n",
    "import pickle\n",
    "from os.path import join, isfile\n",
    "from os import listdir\n",
    "import json\n",
    "\n",
    "# SKLearn and Skorch\n",
    "from sklearn.datasets import make_classification\n",
    "from skorch import NeuralNet, NeuralNetClassifier\n",
    "from sklearn.model_selection import GridSearchCV, RandomizedSearchCV\n",
    "from sklearn.metrics import f1_score, make_scorer\n",
    "from sklearn.metrics import classification_report\n",
    "from skorch.callbacks import EarlyStopping\n",
    "\n",
    "#Imports from the repository\n",
    "from data_processing import get_weights_matrix, get_tokens\n",
    "import data_processing as dp\n",
    "from privacy_policies_dataset import PrivacyPoliciesDataset as PPD\n",
    "from database import Database\n",
    "\n",
    "from urllib.parse import unquote\n",
    "from bs4 import BeautifulSoup\n",
    "\n",
    "import nltk\n",
    "nltk.download('punkt')"
   ]
  },
  {
   "cell_type": "code",
   "execution_count": 38,
   "id": "9762e753",
   "metadata": {},
   "outputs": [],
   "source": [
    "def get_app_ids(policy_id_list):\n",
    "    \"\"\"Function to extract number of App IDs.\n",
    "\n",
    "    :param policy_id_list: List of policy IDs.\n",
    "    \"\"\"\n",
    "    \n",
    "    # Establish a database connection\n",
    "    database_connection = Database().get_database_connection()\n",
    "\n",
    "    # Try with the database connection as a resource.\n",
    "    with database_connection:\n",
    "        with database_connection.cursor() as cursor:\n",
    "            format_strings = ','.join(['%s'] * len(policy_id_list))\n",
    "            cursor.execute(\"SELECT COUNT(DISTINCT(app_to_policy.app_store_id)) AS app_count FROM app_to_policy WHERE policy_id IN (%s)\" % format_strings,\n",
    "                            tuple(policy_id_list))\n",
    "\n",
    "            # Fetch all app urls.\n",
    "            result_rows = cursor.fetchall()\n",
    "    \n",
    "    number_of_apps = result_rows[0]['app_count']\n",
    "\n",
    "    print(number_of_apps)\n",
    "    \n",
    "    return number_of_apps"
   ]
  },
  {
   "cell_type": "code",
   "execution_count": 21,
   "id": "82619886",
   "metadata": {},
   "outputs": [],
   "source": [
    "with open('small-policies.txt', 'r') as filehandle:\n",
    "    small_policies_list = [current_place.rstrip() for current_place in filehandle.readlines()]"
   ]
  },
  {
   "cell_type": "code",
   "execution_count": 7,
   "id": "8ae353c2",
   "metadata": {},
   "outputs": [
    {
     "name": "stdout",
     "output_type": "stream",
     "text": [
      "71046\n"
     ]
    },
    {
     "data": {
      "text/plain": [
       "71046"
      ]
     },
     "execution_count": 7,
     "metadata": {},
     "output_type": "execute_result"
    }
   ],
   "source": [
    "get_app_ids(small_policies_list)"
   ]
  },
  {
   "cell_type": "code",
   "execution_count": 22,
   "id": "6480635e",
   "metadata": {},
   "outputs": [
    {
     "data": {
      "text/plain": [
       "49936"
      ]
     },
     "execution_count": 22,
     "metadata": {},
     "output_type": "execute_result"
    }
   ],
   "source": [
    "len(small_policies_list)"
   ]
  },
  {
   "cell_type": "code",
   "execution_count": 23,
   "id": "33a95084",
   "metadata": {},
   "outputs": [],
   "source": [
    "with open('empty-policies.txt', 'r') as filehandle:\n",
    "    empty_policies_list = [current_place.rstrip() for current_place in filehandle.readlines()]"
   ]
  },
  {
   "cell_type": "code",
   "execution_count": 11,
   "id": "837d6361",
   "metadata": {},
   "outputs": [
    {
     "name": "stdout",
     "output_type": "stream",
     "text": [
      "94776\n"
     ]
    },
    {
     "data": {
      "text/plain": [
       "94776"
      ]
     },
     "execution_count": 11,
     "metadata": {},
     "output_type": "execute_result"
    }
   ],
   "source": [
    "get_app_ids(empty_policies_list)"
   ]
  },
  {
   "cell_type": "code",
   "execution_count": 24,
   "id": "6ff9a035",
   "metadata": {},
   "outputs": [
    {
     "data": {
      "text/plain": [
       "66150"
      ]
     },
     "execution_count": 24,
     "metadata": {},
     "output_type": "execute_result"
    }
   ],
   "source": [
    "len(empty_policies_list)"
   ]
  },
  {
   "cell_type": "code",
   "execution_count": 25,
   "id": "e01fd54f",
   "metadata": {},
   "outputs": [],
   "source": [
    "with open('small-empty-policies.txt', 'r') as filehandle:\n",
    "    small_empty_policies_list = [current_place.rstrip() for current_place in filehandle.readlines()]"
   ]
  },
  {
   "cell_type": "code",
   "execution_count": 14,
   "id": "e14a6419",
   "metadata": {},
   "outputs": [
    {
     "name": "stdout",
     "output_type": "stream",
     "text": [
      "60952\n"
     ]
    },
    {
     "data": {
      "text/plain": [
       "60952"
      ]
     },
     "execution_count": 14,
     "metadata": {},
     "output_type": "execute_result"
    }
   ],
   "source": [
    "get_app_ids(small_empty_policies_list)"
   ]
  },
  {
   "cell_type": "code",
   "execution_count": 26,
   "id": "331ec2e2",
   "metadata": {},
   "outputs": [
    {
     "data": {
      "text/plain": [
       "41350"
      ]
     },
     "execution_count": 26,
     "metadata": {},
     "output_type": "execute_result"
    }
   ],
   "source": [
    "len(small_empty_policies_list)"
   ]
  },
  {
   "cell_type": "code",
   "execution_count": 30,
   "id": "b4409d15",
   "metadata": {},
   "outputs": [],
   "source": [
    "small_or_empty_policies_combined = []\n",
    "small_or_empty_policies_combined.extend(small_policies_list)\n",
    "small_or_empty_policies_combined.extend(empty_policies_list)\n",
    "small_or_empty_policies_combined.extend(small_empty_policies_list)\n",
    "small_or_empty_policies_combined = list(set(small_or_empty_policies_combined))"
   ]
  },
  {
   "cell_type": "code",
   "execution_count": 31,
   "id": "93cf90bc",
   "metadata": {},
   "outputs": [
    {
     "data": {
      "text/plain": [
       "157436"
      ]
     },
     "execution_count": 31,
     "metadata": {},
     "output_type": "execute_result"
    }
   ],
   "source": [
    "len(small_or_empty_policies_combined)"
   ]
  },
  {
   "cell_type": "code",
   "execution_count": 32,
   "id": "b1b41caa",
   "metadata": {},
   "outputs": [
    {
     "name": "stdout",
     "output_type": "stream",
     "text": [
      "226774\n"
     ]
    },
    {
     "data": {
      "text/plain": [
       "226774"
      ]
     },
     "execution_count": 32,
     "metadata": {},
     "output_type": "execute_result"
    }
   ],
   "source": [
    "get_app_ids(small_or_empty_policies_combined)"
   ]
  },
  {
   "cell_type": "code",
   "execution_count": 33,
   "id": "5c34f5cd",
   "metadata": {},
   "outputs": [],
   "source": [
    "with open('no-data-collection-policies.txt', 'r') as filehandle:\n",
    "    no_data_collection_list = [current_place.rstrip() for current_place in filehandle.readlines()]"
   ]
  },
  {
   "cell_type": "code",
   "execution_count": 35,
   "id": "5acf9f3d",
   "metadata": {},
   "outputs": [
    {
     "data": {
      "text/plain": [
       "144903"
      ]
     },
     "execution_count": 35,
     "metadata": {},
     "output_type": "execute_result"
    }
   ],
   "source": [
    "len(no_data_collection_list)"
   ]
  },
  {
   "cell_type": "code",
   "execution_count": 34,
   "id": "f9b4722b",
   "metadata": {},
   "outputs": [],
   "source": [
    "no_data_collection_cleaned_list = [x for x in no_data_collection_list if x not in small_or_empty_policies_combined] "
   ]
  },
  {
   "cell_type": "code",
   "execution_count": 36,
   "id": "251a34f1",
   "metadata": {},
   "outputs": [
    {
     "data": {
      "text/plain": [
       "123935"
      ]
     },
     "execution_count": 36,
     "metadata": {},
     "output_type": "execute_result"
    }
   ],
   "source": [
    "len(no_data_collection_cleaned_list)"
   ]
  },
  {
   "cell_type": "code",
   "execution_count": 40,
   "id": "4201e37c",
   "metadata": {},
   "outputs": [
    {
     "name": "stdout",
     "output_type": "stream",
     "text": [
      "191784\n"
     ]
    },
    {
     "data": {
      "text/plain": [
       "191784"
      ]
     },
     "execution_count": 40,
     "metadata": {},
     "output_type": "execute_result"
    }
   ],
   "source": [
    "get_app_ids(no_data_collection_cleaned_list)"
   ]
  }
 ],
 "metadata": {
  "kernelspec": {
   "display_name": "Python 3 (ipykernel)",
   "language": "python",
   "name": "python3"
  },
  "language_info": {
   "codemirror_mode": {
    "name": "ipython",
    "version": 3
   },
   "file_extension": ".py",
   "mimetype": "text/x-python",
   "name": "python",
   "nbconvert_exporter": "python",
   "pygments_lexer": "ipython3",
   "version": "3.8.10"
  }
 },
 "nbformat": 4,
 "nbformat_minor": 5
}
